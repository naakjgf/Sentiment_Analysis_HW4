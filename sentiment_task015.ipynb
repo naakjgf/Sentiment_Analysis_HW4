{
 "cells": [
  {
   "cell_type": "markdown",
   "metadata": {},
   "source": [
    "Homework 4: Sentiment Analysis - Task 0, Task 1, Task 5 (all primarily written tasks)\n",
    "----\n",
    "\n",
    "The following instructions are only written in this notebook but apply to all notebooks and `.py` files you submit for this homework.\n",
    "\n",
    "Due date: February 28th, 2024\n",
    "\n",
    "Points: \n",
    "- Task 0: 5 points\n",
    "- Task 1: 10 points\n",
    "- Task 2: 30 points\n",
    "- Task 3: 20 points\n",
    "- Task 4: 20 points\n",
    "- Task 5: 15 points\n",
    "\n",
    "Goals:\n",
    "- understand the difficulties of counting and probablities in NLP applications\n",
    "- work with real world data to build a functioning language model\n",
    "- stress test your model (to some extent)\n",
    "\n",
    "Complete in groups of: __two (pairs)__. If you prefer to work on your own, you may, but be aware that this homework has been designed as a partner project.\n",
    "\n",
    "Allowed python modules:\n",
    "- `numpy`, `matplotlib`, `keras`, `pytorch`, `nltk`, `pandas`, `sci-kit learn` (`sklearn`), `seaborn`, and all built-in python libraries (e.g. `math` and `string`)\n",
    "- if you would like to use a library not on this list, post on piazza to request permission\n",
    "- all *necessary* imports have been included for you (all imports that we used in our solution)\n",
    "\n",
    "Instructions:\n",
    "- Complete outlined problems in this notebook. \n",
    "- When you have finished, __clear the kernel__ and __run__ your notebook \"fresh\" from top to bottom. Ensure that there are __no errors__. \n",
    "    - If a problem asks for you to write code that does result in an error (as in, the answer to the problem is an error), leave the code in your notebook but commented out so that running from top to bottom does not result in any errors.\n",
    "- Double check that you have completed Task 0.\n",
    "- Submit your work on Gradescope.\n",
    "- Double check that your submission on Gradescope looks like you believe it should __and__ that all partners are included (for partner work).\n"
   ]
  },
  {
   "cell_type": "markdown",
   "metadata": {},
   "source": [
    "Task 0: Name, References, Reflection (5 points)\n",
    "---\n",
    "\n",
    "Names\n",
    "----\n",
    "Names: Kaan Tural, Arinjay Singh\n",
    "\n",
    "References\n",
    "---\n",
    "List the resources you consulted to complete this homework here. Write one sentence per resource about what it provided to you. If you consulted no references to complete your assignment, write a brief sentence stating that this is the case and why it was the case for you.\n",
    "\n",
    "(Example)\n",
    "- https://docs.python.org/3/tutorial/datastructures.html\n",
    "    - Read about the the basics and syntax for data structures in python.\n",
    "\n",
    "\n",
    "Reflection\n",
    "----\n",
    "Answer the following questions __after__ you complete this assignment (no more than 1 sentence per question required, this section is graded on completion):\n",
    "\n",
    "1. Does this work reflect your best effort?\n",
    "2. What was/were the most challenging part(s) of the assignment?\n",
    "3. If you want feedback, what function(s) or problem(s) would you like feedback on and why?\n",
    "4. Briefly reflect on how your partnership functioned--who did which tasks, how was the workload on each of you individually as compared to the previous homeworks, etc."
   ]
  },
  {
   "cell_type": "markdown",
   "metadata": {},
   "source": [
    "Task 1: Provided Data Write-Up (10 points)\n",
    "---\n",
    "\n",
    "Every time you use a data set in an NLP application (or in any software application), you should be able to answer a set of questions about that data. Answer these now. Default to no more than 1 sentence per question needed. If more explanation is necessary, do give it."
   ]
  },
  {
   "cell_type": "code",
   "execution_count": null,
   "metadata": {},
   "outputs": [],
   "source": []
  },
  {
   "cell_type": "code",
   "execution_count": null,
   "metadata": {},
   "outputs": [],
   "source": []
  },
  {
   "cell_type": "markdown",
   "metadata": {},
   "source": [
    "This is about the __provided__ movie review data set.\n",
    "\n",
    "1. Where did you get the data from? The provided dataset(s) were sub-sampled from https://www.kaggle.com/datasets/lakshmi25npathi/imdb-dataset-of-50k-movie-reviews \n",
    "2. (1 pt) How was the data collected (where did the people acquiring the data get it from and how)?\n",
    "\n",
    "It is not mentioned on the website, the assumption can be made they looked at a popular movie review site such as IMDB though and collected ones with certain ratings or responses that may make them \"highly polar\" possibly ratings that are the complete inverse of what the true movie's rating was using a scraper.\n",
    "\n",
    "3. (2 pts) How large is the dataset (answer for both the train and the dev set, separately)? (# reviews, # tokens in both the train and dev sets)\n",
    "\n",
    "There were 25,000 reviews in the training data and 25,000 reviews in the dev/test set. But within the data that we have in the .txt files, it is 1600 reviews in training set and 200 views in the data set. 369136 tokens in training, 47158 in dev.\n",
    "\n",
    "4. (1 pt) What is your data? (i.e. newswire, tweets, books, blogs, etc)\n",
    "\n",
    "The data is made up of movie reviews that are considered highly polar.\n",
    "\n",
    "5. (1 pt) Who produced the data? (who were the authors of the text? Your answer might be a specific person or a particular group of people)\n",
    "\n",
    "The people at stanford, it can likely be assumed to be Andrew Maas as they are the only name mentioned. It is implied they used a webscaper on IMDB in the discussions.\n",
    "\n",
    "6. (2 pts) What is the distribution of labels in the data (answer for both the train and the dev set, separately)?\n",
    "\n",
    "It appears the distribution between positive and negative is 50:50 as well. With slightly more positive reviews as it is titled as the \"most common\". The actual numbers are 1 - 50.25  and 0 - 49.75 which means that there are .5% more positive reviews.\n",
    "\n",
    "7. (2 pts) How large is the vocabulary (answer for both the train and the dev set, separately)?\n",
    "\n",
    "Vocabulary size in training set: 47638\n",
    "Vocabulary size in dev set: 11709\n",
    "\n",
    "8. (1 pt) How big is the overlap between the vocabulary for the train and dev set?\n",
    "\n",
    "Vocabulary overlap between training and dev sets: 7245"
   ]
  },
  {
   "cell_type": "code",
   "execution_count": null,
   "metadata": {},
   "outputs": [
    {
     "name": "stderr",
     "output_type": "stream",
     "text": [
      "C:\\Users\\Isha\\anaconda3\\lib\\site-packages\\numpy\\_distributor_init.py:30: UserWarning: loaded more than 1 DLL from .libs:\n",
      "C:\\Users\\Isha\\anaconda3\\lib\\site-packages\\numpy\\.libs\\libopenblas.WCDJNK7YVMPZQ2ME2ZZHJJRJ3JIKNDB7.gfortran-win_amd64.dll\n",
      "C:\\Users\\Isha\\anaconda3\\lib\\site-packages\\numpy\\.libs\\libopenblas.xwydx2ikjw2nmtwsfyngfuwkqu3lytcz.gfortran-win_amd64.dll\n",
      "  warnings.warn(\"loaded more than 1 DLL from .libs:\"\n",
      "[nltk_data] Downloading package punkt to\n",
      "[nltk_data]     C:\\Users\\Isha\\AppData\\Roaming\\nltk_data...\n",
      "[nltk_data]   Package punkt is already up-to-date!\n"
     ]
    }
   ],
   "source": [
    "# our utility functions\n",
    "# RESTART your jupyter notebook kernel if you make changes to this file\n",
    "import sentiment_utils as sutils\n",
    "\n"
   ]
  },
  {
   "cell_type": "code",
   "execution_count": 5,
   "metadata": {},
   "outputs": [
    {
     "name": "stdout",
     "output_type": "stream",
     "text": [
      "Number of reviews in training set: 1600\n",
      "Number of reviews in dev set: 200\n",
      "Total number of tokens in training set: 369136\n",
      "Total number of tokens in dev set: 47158\n",
      "Label distribution in training set (%):\n",
      "Label\n",
      "1    50.25\n",
      "0    49.75\n",
      "Name: proportion, dtype: float64\n",
      "Label distribution in dev set (%):\n",
      "Label\n",
      "1    52.5\n",
      "0    47.5\n",
      "Name: proportion, dtype: float64\n",
      "Vocabulary size in training set: 47638\n",
      "Vocabulary size in dev set: 11709\n",
      "Vocabulary overlap between training and dev sets: 7245\n"
     ]
    }
   ],
   "source": [
    "# Feel free to write code to help answer the above questions\n",
    "\n",
    "# Used GPT to generate the ways of calculating the above questions\n",
    "import pandas as pd\n",
    "\n",
    "train_path = 'test_dev_data/movie_reviews_train.txt'\n",
    "dev_path = 'test_dev_data/movie_reviews_dev.txt'\n",
    "\n",
    "train_df = pd.read_csv(train_path, sep='\\t', header=None, names=['Review', 'Label'])\n",
    "dev_df = pd.read_csv(dev_path, sep='\\t', header=None, names=['Review', 'Label'])\n",
    "\n",
    "# Count the number of reviews in each set\n",
    "num_reviews_train = len(train_df)\n",
    "num_reviews_dev = len(dev_df)\n",
    "\n",
    "# Print out the counts\n",
    "print(f\"Number of reviews in training set: {num_reviews_train}\")\n",
    "print(f\"Number of reviews in dev set: {num_reviews_dev}\")\n",
    "\n",
    "train_df['Token Count'] = train_df['Review'].apply(lambda x: len(x.split()))\n",
    "dev_df['Token Count'] = dev_df['Review'].apply(lambda x: len(x.split()))\n",
    "\n",
    "# Total number of tokens in each set\n",
    "total_tokens_train = train_df['Token Count'].sum()\n",
    "total_tokens_dev = dev_df['Token Count'].sum()\n",
    "\n",
    "# Distribution of labels in both sets\n",
    "label_distribution_train = train_df['Label'].value_counts(normalize=True) * 100\n",
    "label_distribution_dev = dev_df['Label'].value_counts(normalize=True) * 100\n",
    "\n",
    "# Calculate vocabulary size\n",
    "# Combine all reviews into a single string for each set, then split into tokens and convert to a set to remove duplicates\n",
    "vocab_train = set(' '.join(train_df['Review']).split())\n",
    "vocab_dev = set(' '.join(dev_df['Review']).split())\n",
    "\n",
    "# Vocabulary sizes\n",
    "vocab_size_train = len(vocab_train)\n",
    "vocab_size_dev = len(vocab_dev)\n",
    "\n",
    "# Vocabulary overlap\n",
    "vocab_overlap = len(vocab_train.intersection(vocab_dev))\n",
    "\n",
    "# Printing the results\n",
    "print(f\"Total number of tokens in training set: {total_tokens_train}\")\n",
    "print(f\"Total number of tokens in dev set: {total_tokens_dev}\")\n",
    "print(f\"Label distribution in training set (%):\\n{label_distribution_train}\")\n",
    "print(f\"Label distribution in dev set (%):\\n{label_distribution_dev}\")\n",
    "print(f\"Vocabulary size in training set: {vocab_size_train}\")\n",
    "print(f\"Vocabulary size in dev set: {vocab_size_dev}\")\n",
    "print(f\"Vocabulary overlap between training and dev sets: {vocab_overlap}\")"
   ]
  },
  {
   "cell_type": "markdown",
   "metadata": {},
   "source": [
    "Task 5: Model Evaluation (15 points)\n",
    "---\n",
    "Save your three graph files for the __best__ configurations that you found with your models using the `plt.savefig(filename)` command. The `bbox_inches` optional parameter will help you control how much whitespace outside of the graph is in your resulting image.\n",
    "\n",
    "__NOTE:__ Run each notebook containing a classifier 3 times, resulting in __NINE__ saved graphs (don't just overwrite your previous ones).\n",
    "\n",
    "You will turn in all of these files.\n",
    "\n",
    "10 points in this section are allocated for having all nine graphs legible, properly labeled, and present.\n"
   ]
  },
  {
   "cell_type": "markdown",
   "metadata": {},
   "source": [
    "\n",
    "\n",
    "1. (1 pt) When using __10%__ of your data, which model had the highest f1 score?\n",
    "2. (1 pt) Which classifier had the most __consistent__ performance (that is, which classifier had the least variation across all three graphs you have for it -- no need to mathematically calculate this, you can just look at the graphs)?\n",
    "3. (1 pt) For each model, what percentage of training data resulted in the highest f1 score?\n",
    "    1. Naive Bayes:\n",
    "    2. Logistic Regression:\n",
    "    3. Neural Net:\n",
    "4. (2 pts) Which model, if any, appeared to overfit the training data the most? Why?\n"
   ]
  }
 ],
 "metadata": {
  "kernelspec": {
   "display_name": "Python 3 (ipykernel)",
   "language": "python",
   "name": "python3"
  },
  "language_info": {
   "codemirror_mode": {
    "name": "ipython",
    "version": 3
   },
   "file_extension": ".py",
   "mimetype": "text/x-python",
   "name": "python",
   "nbconvert_exporter": "python",
   "pygments_lexer": "ipython3",
   "version": "3.12.1"
  }
 },
 "nbformat": 4,
 "nbformat_minor": 2
}
